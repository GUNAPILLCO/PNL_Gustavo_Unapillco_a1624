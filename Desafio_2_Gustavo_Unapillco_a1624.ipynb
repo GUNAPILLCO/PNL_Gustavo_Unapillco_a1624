{
 "cells": [
  {
   "cell_type": "markdown",
   "metadata": {},
   "source": [
    "# PROCESAMIENTO DE LENGUAJE NATURAL\n",
    "\n",
    "## Trabajo Practico 2\n",
    "## Gustavo Uñapillco            a1624"
   ]
  },
  {
   "cell_type": "markdown",
   "metadata": {},
   "source": [
    "## Consigna del desafío 2"
   ]
  },
  {
   "cell_type": "markdown",
   "metadata": {},
   "source": [
    "        Crear sus propios vectores con Gensim basado en lo visto en clase con otro dataset.\n",
    "\n",
    "        Probar términos de interés y explicar similitudes en el espacio de embeddings.\n",
    "\n",
    "        Intentar plantear y probar tests de analogías. \n",
    "\n",
    "        Graficar los embeddings resultantes.\n",
    "\n",
    "        Sacar conclusiones."
   ]
  },
  {
   "cell_type": "markdown",
   "metadata": {},
   "source": [
    "## Desarrollo: "
   ]
  },
  {
   "cell_type": "markdown",
   "metadata": {},
   "source": [
    "### 1. Descargamos corpus de texto de \"Project Gutenberg\""
   ]
  },
  {
   "cell_type": "code",
   "execution_count": 107,
   "metadata": {},
   "outputs": [],
   "source": [
    "#Importación de librerías\n",
    "import pandas as pd \n",
    "import matplotlib.pyplot as plt\n",
    "import seaborn as sns\n",
    "from sklearn.decomposition import PCA\n",
    "from sklearn.manifold import TSNE\n",
    "import requests\n",
    "import multiprocessing\n",
    "from gensim.models import Word2Vec, FastText\n",
    "\n",
    "import re\n",
    "import nltk\n",
    "from nltk.tokenize import word_tokenize, sent_tokenize\n",
    "from nltk.corpus import stopwords\n",
    "\n",
    "import seaborn as sns\n",
    "import numpy as np "
   ]
  },
  {
   "cell_type": "markdown",
   "metadata": {},
   "source": [
    "Dado que el propósito de este desafio es identificar relaciones semánticas entre palabras en un contexto cotidiano y analizar temas de relaciones personales, sociedad, y emociones, Orgullo y Prejuicio es una excelente opción. Sus temas sobre las relaciones sociales y emociones son más fácilmente identificables y analizables."
   ]
  },
  {
   "cell_type": "code",
   "execution_count": 67,
   "metadata": {},
   "outputs": [],
   "source": [
    "#URL de libro \"Orgullo y Prejuicio\"\n",
    "url=\"https://www.gutenberg.org/files/1342/1342-0.txt\"\n",
    "response=requests.get(url)\n",
    "\n",
    "#Guardamos el libro en book_text\n",
    "book_text=response.text"
   ]
  },
  {
   "cell_type": "code",
   "execution_count": 68,
   "metadata": {},
   "outputs": [
    {
     "name": "stdout",
     "output_type": "stream",
     "text": [
      "*** START OF THE PROJECT GUTENBERG EBOOK 1342 ***\n",
      "\n",
      "\n",
      "\n",
      "\n",
      "                            [Illustration:\n",
      "\n",
      "                             GEORGE ALLEN\n",
      "                               PUBLISHER\n",
      "\n",
      "                        156 CHARING CROSS ROAD\n",
      "                                LONDON\n",
      "\n",
      "                             RUSKIN HOUSE\n",
      "                                   ]\n",
      "\n",
      "                            [Illustration:\n",
      "\n",
      "               _Reading Jane’s Letters._      _Chap 34._\n",
      "                                   ]\n",
      "\n",
      "\n",
      "\n",
      "\n",
      "                                PRIDE.\n",
      "                                  and\n",
      "                               PREJUDICE\n",
      "\n",
      "                                  by\n",
      "                             Jane Austen,\n",
      "\n",
      "                           with a Preface by\n",
      "                           George Saintsbury\n",
      "                                  and\n",
      "                           Illustrations by\n",
      "                             Hugh Thomson\n",
      "\n",
      "                         [Illustration: 1894]\n",
      "\n",
      "         \n"
     ]
    }
   ],
   "source": [
    "print(book_text[:1000])"
   ]
  },
  {
   "cell_type": "markdown",
   "metadata": {},
   "source": [
    "### 2. Preprocesamiento básico de texto con NLTK"
   ]
  },
  {
   "cell_type": "code",
   "execution_count": 69,
   "metadata": {},
   "outputs": [
    {
     "name": "stderr",
     "output_type": "stream",
     "text": [
      "[nltk_data] Downloading package punkt to\n",
      "[nltk_data]     C:\\Users\\gunapillco\\AppData\\Roaming\\nltk_data...\n",
      "[nltk_data]   Package punkt is already up-to-date!\n",
      "[nltk_data] Downloading package wordnet to\n",
      "[nltk_data]     C:\\Users\\gunapillco\\AppData\\Roaming\\nltk_data...\n",
      "[nltk_data]   Package wordnet is already up-to-date!\n",
      "[nltk_data] Downloading package omw-1.4 to\n",
      "[nltk_data]     C:\\Users\\gunapillco\\AppData\\Roaming\\nltk_data...\n",
      "[nltk_data]   Package omw-1.4 is already up-to-date!\n",
      "[nltk_data] Downloading package punkt_tab to\n",
      "[nltk_data]     C:\\Users\\gunapillco\\AppData\\Roaming\\nltk_data...\n",
      "[nltk_data]   Package punkt_tab is already up-to-date!\n",
      "[nltk_data] Downloading package stopwords to\n",
      "[nltk_data]     C:\\Users\\gunapillco\\AppData\\Roaming\\nltk_data...\n",
      "[nltk_data]   Package stopwords is already up-to-date!\n"
     ]
    },
    {
     "data": {
      "text/plain": [
       "True"
      ]
     },
     "execution_count": 69,
     "metadata": {},
     "output_type": "execute_result"
    }
   ],
   "source": [
    "nltk.download(\"punkt\")\n",
    "nltk.download(\"wordnet\")\n",
    "nltk.download(\"omw-1.4\")\n",
    "nltk.download(\"punkt_tab\")\n",
    "nltk.download(\"stopwords\")"
   ]
  },
  {
   "cell_type": "code",
   "execution_count": 70,
   "metadata": {},
   "outputs": [],
   "source": [
    "# Preprocesamiento básico de texto\n",
    "def preprocess_text(text):\n",
    "    # Remover encabezados, pie de página y caracteres especiales específicos de Gutenberg\n",
    "    text = re.sub(r'\\[.*?\\]|[0-9]', '', text)  # Elimina notas y números\n",
    "    text = re.sub(r'\\n+', ' ', text)  # Reemplaza saltos de línea múltiples por un espacio\n",
    "    \n",
    "    sentences = sent_tokenize(text)  # Divide el texto en oraciones\n",
    "    stop_words = set(stopwords.words(\"english\"))\n",
    "    clean_sentences = []\n",
    "    \n",
    "    for sentence in sentences:\n",
    "        words = word_tokenize(sentence)  # Divide la oración en palabras\n",
    "        words = [w.lower() for w in words if w.isalpha() and w not in stop_words] # Convierte cada palabra a minuscula, filtra las palabras que solo contengan caracteres alfabéticos y elimina la stopwords.\n",
    "        clean_sentences.append(words)\n",
    "    \n",
    "    return clean_sentences"
   ]
  },
  {
   "cell_type": "code",
   "execution_count": 71,
   "metadata": {},
   "outputs": [],
   "source": [
    "# Usa tu texto previamente descargado\n",
    "cleaned_text = preprocess_text(book_text)  # book_text es el texto descargado"
   ]
  },
  {
   "cell_type": "code",
   "execution_count": 72,
   "metadata": {},
   "outputs": [
    {
     "name": "stdout",
     "output_type": "stream",
     "text": [
      "[['start', 'of', 'the', 'project', 'gutenberg', 'ebook', 'illustration', 'george', 'allen', 'publisher', 'charing', 'cross', 'road', 'london', 'ruskin', 'house', 'illustration', 'jane', 'pride']]\n"
     ]
    }
   ],
   "source": [
    "print(cleaned_text[:1])"
   ]
  },
  {
   "cell_type": "markdown",
   "metadata": {},
   "source": [
    "### 3. Entrenamos los dos modelos conocidos de embedding con Gensim\n"
   ]
  },
  {
   "cell_type": "code",
   "execution_count": 73,
   "metadata": {},
   "outputs": [],
   "source": [
    "# Entrena el modelo Word2Vec\n",
    "model_WV = Word2Vec(sentences=cleaned_text, vector_size=100, window=10, min_count=2, workers=4)\n",
    "# Guarda el modelo si deseas usarlo posteriormente\n",
    "model_WV.save(\"word2vec_model.model\")"
   ]
  },
  {
   "cell_type": "code",
   "execution_count": 74,
   "metadata": {},
   "outputs": [],
   "source": [
    "# Entrena el modelo FastText\n",
    "model_FT = FastText(sentences=cleaned_text, vector_size=100, window=10, min_count=2, workers=4, sg=1, epochs=10)\n",
    "# Guarda el modelo si deseas usarlo posteriormente\n",
    "model_FT.save(\"fasttext_model.model\")"
   ]
  },
  {
   "cell_type": "markdown",
   "metadata": {},
   "source": [
    "### 4. Probar Términos de Interés y Explicar Similitudes\n"
   ]
  },
  {
   "cell_type": "code",
   "execution_count": 83,
   "metadata": {},
   "outputs": [],
   "source": [
    "def similar_word_model (word_of_interest):\n",
    "    #Modelo Word2Vec:\n",
    "    similar_words_WV = model_WV.wv.most_similar(word_of_interest, topn=10)\n",
    "    print('Resultados modelo Word2Vec:\\n')\n",
    "    for word, similarity in similar_words_WV:\n",
    "        print(f\"\\t{word}: {similarity:.4f}\")\n",
    "\n",
    "    #Modelo FastText:\n",
    "    similar_words_FT = model_FT.wv.most_similar(word_of_interest, topn=10)\n",
    "    print('\\nResultados modelo FastText:\\n')\n",
    "    for word, similarity in similar_words_FT:\n",
    "        print(f\"\\t{word}: {similarity:.4f}\")"
   ]
  },
  {
   "cell_type": "markdown",
   "metadata": {},
   "source": [
    "#### 4.1. Palabra 'respect'"
   ]
  },
  {
   "cell_type": "code",
   "execution_count": 84,
   "metadata": {},
   "outputs": [
    {
     "name": "stdout",
     "output_type": "stream",
     "text": [
      "Resultados modelo Word2Vec:\n",
      "\n",
      "\tmay: 0.9997\n",
      "\tbetter: 0.9997\n",
      "\tquite: 0.9997\n",
      "\tindeed: 0.9997\n",
      "\twell: 0.9997\n",
      "\tever: 0.9996\n",
      "\tyou: 0.9996\n",
      "\tshe: 0.9996\n",
      "\thowever: 0.9996\n",
      "\twould: 0.9996\n",
      "\n",
      "Resultados modelo FastText:\n",
      "\n",
      "\tdisrespect: 0.9888\n",
      "\tconnections: 0.9841\n",
      "\trespectability: 0.9808\n",
      "\tconnect: 0.9789\n",
      "\tconnection: 0.9777\n",
      "\trespectable: 0.9750\n",
      "\tobjections: 0.9725\n",
      "\tconditions: 0.9721\n",
      "\tassertions: 0.9712\n",
      "\trespects: 0.9710\n"
     ]
    }
   ],
   "source": [
    "# Ejemplo de prueba de similitud\n",
    "word_of_interest_1='respect'\n",
    "similar_word_model(word_of_interest_1)"
   ]
  },
  {
   "cell_type": "markdown",
   "metadata": {},
   "source": [
    "Se observan diferencias significativas en la forma en que cada modelo captura el contexto de la palabra \"respect\"\n",
    "\n",
    "Word2Vec incluye términos como \"may\", \"she\", \"however\", \"time\" y \"house\" que son palabras comunces y no tienen una relación directa con \"respect\". Me sugiere que el modelo W2V, prioriza aquellas palabras que aparecen con mayor frecuencia y no captura adecuadamente la relación semántica con \"respect\"\n",
    "\n",
    "Por otro lado, FastText, identifica palabras como \"disrespect\", \"connections\", \"objections\", \"connection\", \"respectability\" y \"respects\" como similares a \"respect\". Estas palabras si están relacionadas semánticamente. Por ejemplo, \"disrespect\" es el antónimo de \"respect\", mientras que \"respectability\" y \"respects\" están directamente relacionadas. FastText muestra una mejor comprensión del contexto, ya que utiliza subpalabras para reconocer similitudes morfológicas, lo que le permite captar mejor las relaciones semánticas relevantes.\n"
   ]
  },
  {
   "cell_type": "markdown",
   "metadata": {},
   "source": [
    "#### 4.1. Palabra 'pride'"
   ]
  },
  {
   "cell_type": "code",
   "execution_count": 86,
   "metadata": {},
   "outputs": [
    {
     "name": "stdout",
     "output_type": "stream",
     "text": [
      "Resultados modelo Word2Vec:\n",
      "\n",
      "\twould: 0.9999\n",
      "\tthough: 0.9998\n",
      "\tmuch: 0.9998\n",
      "\tfamily: 0.9998\n",
      "\tcollins: 0.9998\n",
      "\tway: 0.9998\n",
      "\twithout: 0.9998\n",
      "\tgood: 0.9998\n",
      "\tfelt: 0.9998\n",
      "\thowever: 0.9998\n",
      "\n",
      "Resultados modelo FastText:\n",
      "\n",
      "\tpreserve: 0.9825\n",
      "\tcapable: 0.9822\n",
      "\tdeserve: 0.9820\n",
      "\tdoubtless: 0.9813\n",
      "\texact: 0.9799\n",
      "\tattach: 0.9796\n",
      "\tincapable: 0.9784\n",
      "\tvanity: 0.9778\n",
      "\tcase: 0.9765\n",
      "\tindependence: 0.9748\n"
     ]
    }
   ],
   "source": [
    "# Ejemplo de prueba de similitud\n",
    "word_of_interest_2='pride'\n",
    "similar_word_model(word_of_interest_2)"
   ]
  },
  {
   "cell_type": "markdown",
   "metadata": {},
   "source": [
    "Los resultados muestran que Word2Vec agrupa palabras comunes como \"would\" y \"though\", pero sin captar realmente el sentido de \"pride\". \n",
    "En contraste, FastText destaca términos como \"preserve\", \"deserve\" e \"independence\", mucho más cercanos al concepto de \"pride\". \n",
    "\n",
    "Esto indica que FastText logra representar mejor su significado profundo y es más preciso al capturar el contexto de \"pride\", por lo que resulta más adecuado para entender significados complejos en el lenguaje."
   ]
  },
  {
   "cell_type": "markdown",
   "metadata": {},
   "source": [
    "### 5. Probar Analogías\n",
    "\n"
   ]
  },
  {
   "cell_type": "code",
   "execution_count": null,
   "metadata": {},
   "outputs": [],
   "source": [
    "def analogia(word_1, word_2, word_3):\n",
    "# Analogía: word_1 - word_3 + word_2\n",
    "    result_wv = model_WV.wv.most_similar(positive=[word_1, word_2], negative=[word_3], topn=1)\n",
    "    result_ft = model_FT.wv.most_similar(positive=[word_1, word_2], negative=[word_3], topn=1)\n",
    "\n",
    "    print(f\"Resultado de la analogía '{word_1}' - '{word_3}' + '{word_2}':\")\n",
    "    print(f'Modelo Word2Vec: {result_wv}')\n",
    "    print(f'Modelo FastText: {result_ft}')"
   ]
  },
  {
   "cell_type": "markdown",
   "metadata": {},
   "source": [
    "#### 5.1. Analogía 1: 'pemberley' - 'darcy' + 'bingley'"
   ]
  },
  {
   "cell_type": "code",
   "execution_count": null,
   "metadata": {},
   "outputs": [
    {
     "name": "stdout",
     "output_type": "stream",
     "text": [
      "Resultado de la analogía 'pemberley' - 'darcy' + 'bingley':\n",
      "Modelo Word2Vec: [('collins', 0.9996849894523621)]\n",
      "Modelo FastText: [('play', 0.9434688091278076)]\n"
     ]
    }
   ],
   "source": [
    "analogia('pemberley','bingley','darcy')"
   ]
  },
  {
   "cell_type": "markdown",
   "metadata": {},
   "source": [
    "Word2Vec devuelve \"collins\", mientras que FastText da \"play\".\n",
    "\n",
    "Ninguno de los resultados refleja la relación esperada, donde podríamos esperar un lugar asociado a Bingley o a personajes cercanos."
   ]
  },
  {
   "cell_type": "markdown",
   "metadata": {},
   "source": [
    "#### 5.2. Analogía 2: 'london' - 'wealth' + 'humility'"
   ]
  },
  {
   "cell_type": "code",
   "execution_count": 97,
   "metadata": {},
   "outputs": [
    {
     "name": "stdout",
     "output_type": "stream",
     "text": [
      "Resultado de la analogía 'london' - 'wealth' + 'humility':\n",
      "Modelo Word2Vec: [('list', 0.9660170674324036)]\n",
      "Modelo FastText: [('tuesday', 0.9709523320198059)]\n"
     ]
    }
   ],
   "source": [
    "analogia('london','humility','wealth')"
   ]
  },
  {
   "cell_type": "markdown",
   "metadata": {},
   "source": [
    "Word2Vec devuelve \"list\" y FastText da \"tuesday\", que son palabras sin una relación directa con el contraste entre un lugar de riqueza y humildad.\n",
    "\n",
    "Aquí, podríamos esperar algo como \"meryton\" o términos relacionados con simplicidad o modestia, pero los modelos no capturan esta asociación."
   ]
  },
  {
   "cell_type": "markdown",
   "metadata": {},
   "source": [
    "#### 5.3. Analogía 3: 'king' - 'man' + 'woman'"
   ]
  },
  {
   "cell_type": "code",
   "execution_count": 98,
   "metadata": {},
   "outputs": [
    {
     "name": "stdout",
     "output_type": "stream",
     "text": [
      "Resultado de la analogía 'king' - 'man' + 'woman':\n",
      "Modelo Word2Vec: [('pretty', 0.993297278881073)]\n",
      "Modelo FastText: [('taking', 0.9680491089820862)]\n"
     ]
    }
   ],
   "source": [
    "analogia ('king','woman','man')"
   ]
  },
  {
   "cell_type": "markdown",
   "metadata": {},
   "source": [
    "Word2Vec da \"pretty\" y FastText devuelve \"taking\", en lugar de un término relacionado con realeza femenina, como \"queen\".\n",
    "\n",
    "Esto sugiere que ambos modelos tienen dificultades para interpretar correctamente esta analogía de género."
   ]
  },
  {
   "cell_type": "markdown",
   "metadata": {},
   "source": [
    "#### 5.4. Conclusión de analogías"
   ]
  },
  {
   "cell_type": "markdown",
   "metadata": {},
   "source": [
    "Los resultados muestran que los modelos no captan bien las relaciones entre personajes, lugares o conceptos de Orgullo y Prejuicio. Esto probablemente se debe a limitaciones en el vocabulario y a que los modelos no están adaptados al contexto literario. Para mejorar la precisión, sería útil entrenar los modelos en un corpus de textos literarios similares."
   ]
  },
  {
   "cell_type": "markdown",
   "metadata": {},
   "source": [
    "### 6. Graficar embeddings"
   ]
  },
  {
   "cell_type": "code",
   "execution_count": 127,
   "metadata": {},
   "outputs": [
    {
     "data": {
      "image/png": "[encoded data removed]",
      "text/plain": [
       "<Figure size 1400x600 with 2 Axes>"
      ]
     },
     "metadata": {},
     "output_type": "display_data"
    }
   ],
   "source": [
    "# Palabras seleccionadas\n",
    "words = ['pride', 'prejudice', 'darcy', 'elizabeth', 'love', 'marriage', 'wealth', 'family','respect','lady','gentleman','society','happiness','misery','decency','lizzy','jealousy']\n",
    "\n",
    "# Función para generar t-SNE y graficar los resultados\n",
    "def plot_tsne(model, words, ax, title):\n",
    "    # Extraer los vectores correspondientes a las palabras seleccionadas\n",
    "    word_vectors = np.array([model.wv[word] for word in words])\n",
    "    \n",
    "    # Reducir la dimensionalidad a 2D usando t-SNE\n",
    "    tsne = TSNE(n_components=2, random_state=42, perplexity=10)\n",
    "    word_vectors_2d = tsne.fit_transform(word_vectors)\n",
    "\n",
    "    # Graficar las palabras\n",
    "    for i, word in enumerate(words):\n",
    "        ax.scatter(word_vectors_2d[i, 0], word_vectors_2d[i, 1])\n",
    "        ax.annotate(word, xy=(word_vectors_2d[i, 0], word_vectors_2d[i, 1]),\n",
    "                    xytext=(5, 2), textcoords='offset points', ha='right', va='bottom')\n",
    "    \n",
    "    # Configuración de la visualización\n",
    "    ax.set_title(title)\n",
    "    ax.set_xlabel(\"Dimensión 1\")\n",
    "    ax.set_ylabel(\"Dimensión 2\")\n",
    "\n",
    "# Crear los subgráficos en una sola fila\n",
    "fig, axes = plt.subplots(1, 2, figsize=(14, 6))\n",
    "\n",
    "# Graficar para el modelo Word2Vec\n",
    "plot_tsne(model_WV, words, axes[0], \"Word2Vec - Visualización de Embeddings\")\n",
    "\n",
    "# Graficar para el modelo FastText\n",
    "plot_tsne(model_FT, words, axes[1], \"FastText - Visualización de Embeddings\")\n",
    "\n",
    "# Ajustar el diseño y mostrar los gráficos\n",
    "plt.tight_layout()\n",
    "plt.show()"
   ]
  }
 ],
 "metadata": {
  "kernelspec": {
   "display_name": "pln",
   "language": "python",
   "name": "python3"
  },
  "language_info": {
   "codemirror_mode": {
    "name": "ipython",
    "version": 3
   },
   "file_extension": ".py",
   "mimetype": "text/x-python",
   "name": "python",
   "nbconvert_exporter": "python",
   "pygments_lexer": "ipython3",
   "version": "3.9.20"
  }
 },
 "nbformat": 4,
 "nbformat_minor": 2
}
